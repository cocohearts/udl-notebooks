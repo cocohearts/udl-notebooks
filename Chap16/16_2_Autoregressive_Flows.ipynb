{
  "cells": [
    {
      "cell_type": "markdown",
      "metadata": {
        "colab_type": "text",
        "id": "view-in-github"
      },
      "source": [
        "<a href=\"https://colab.research.google.com/github/udlbook/udlbook/blob/main/Notebooks/Chap16/16_2_Autoregressive_Flows.ipynb\" target=\"_parent\"><img src=\"https://colab.research.google.com/assets/colab-badge.svg\" alt=\"Open In Colab\"/></a>"
      ]
    },
    {
      "cell_type": "markdown",
      "metadata": {
        "id": "t9vk9Elugvmi"
      },
      "source": [
        "# **Notebook 16.2: 1D autoregressive flows**\n",
        "\n",
        "This notebook investigates a 1D normalizing flows example similar to that illustrated in figure 16.7 in the book.\n",
        "\n",
        "Work through the cells below, running each cell in turn. In various places you will see the words \"TO DO\". Follow the instructions at these places and make predictions about what is going to happen or write code to complete the functions.\n",
        "\n",
        "Contact me at udlbookmail@gmail.com if you find any mistakes or have any suggestions."
      ]
    },
    {
      "cell_type": "code",
      "execution_count": 22,
      "metadata": {
        "id": "OLComQyvCIJ7"
      },
      "outputs": [],
      "source": [
        "import numpy as np\n",
        "import matplotlib.pyplot as plt"
      ]
    },
    {
      "cell_type": "markdown",
      "metadata": {
        "id": "jTK456TUd2FV"
      },
      "source": [
        "First we'll define an invertible one dimensional function as in figure 16.5"
      ]
    },
    {
      "cell_type": "code",
      "execution_count": 23,
      "metadata": {
        "id": "zceww_9qFi00"
      },
      "outputs": [],
      "source": [
        "# First let's make the 1D piecewise linear mapping as illustrated in figure 16.5\n",
        "def g(h, phi):\n",
        "  # TODO -- write this function (equation 16.12)\n",
        "  # Note: If you have the first printing of the book, there is a mistake in equation 16.12\n",
        "  # Check the errata for the correct equation (or figure it out yourself!)\n",
        "  # Replace this line:\n",
        "  K = len(phi)\n",
        "  b = int(h*K)\n",
        "  h_prime = np.sum(phi[:b]) + (h*K-b)*phi[b]\n",
        "\n",
        "  return h_prime"
      ]
    },
    {
      "cell_type": "code",
      "execution_count": 24,
      "metadata": {
        "id": "CLXhYl9ZIuRN"
      },
      "outputs": [
        {
          "data": {
            "image/png": "[encoded data removed]",
            "text/plain": [
              "<Figure size 640x480 with 1 Axes>"
            ]
          },
          "metadata": {},
          "output_type": "display_data"
        }
      ],
      "source": [
        "# Let's test this out.  If you managed to vectorize the routine above, then good for you\n",
        "# but I'll assume you didn't and so we'll use a loop\n",
        "\n",
        "# Define the parameters\n",
        "phi = np.array([0.2, 0.1, 0.4, 0.05, 0.25])\n",
        "\n",
        "# Run the function on an array\n",
        "h = np.arange(0,1,0.01)\n",
        "h_prime = np.zeros_like(h)\n",
        "for i in range(len(h)):\n",
        "  h_prime[i] = g(h[i], phi)\n",
        "\n",
        "# Draw the function\n",
        "fig, ax = plt.subplots()\n",
        "ax.plot(h,h_prime, 'b-')\n",
        "ax.set_xlim([0,1])\n",
        "ax.set_ylim([0,1])\n",
        "ax.set_xlabel('Input, $h$')\n",
        "ax.set_ylabel('Output, $h^\\prime$')\n",
        "plt.show()\n"
      ]
    },
    {
      "cell_type": "markdown",
      "metadata": {
        "id": "zOCMYC0leOyZ"
      },
      "source": [
        "We will also need the inverse of this function"
      ]
    },
    {
      "cell_type": "code",
      "execution_count": 25,
      "metadata": {
        "id": "OIqFAgobeSM8"
      },
      "outputs": [],
      "source": [
        "# Define the inverse function\n",
        "def g_inverse(h_prime, phi):\n",
        "    # Lot's of ways to do this, but we'll just do it by bracketing\n",
        "    h_low = 0\n",
        "    h_mid = 0.5\n",
        "    h_high = 0.999\n",
        "\n",
        "    thresh = 0.0001\n",
        "    c_iter = 0\n",
        "    while(c_iter < 20 and h_high - h_low > thresh):\n",
        "        h_prime_low = g(h_low, phi)\n",
        "        h_prime_mid = g(h_mid, phi)\n",
        "        h_prime_high = g(h_high, phi)\n",
        "        if h_prime_mid < h_prime:\n",
        "          h_low = h_mid\n",
        "        else:\n",
        "          h_high = h_mid\n",
        "\n",
        "        h_mid = h_low+(h_high-h_low)/2\n",
        "        c_iter+=1\n",
        "\n",
        "    return h_mid"
      ]
    },
    {
      "cell_type": "markdown",
      "metadata": {
        "id": "t8XPxipfd7hz"
      },
      "source": [
        "Now let's define an autoregressive flow.  Let's switch to looking at figure 16.7.# We'll assume that our piecewise function will use five parameters phi1,phi2,phi3,phi4,phi5"
      ]
    },
    {
      "cell_type": "code",
      "execution_count": 26,
      "metadata": {
        "id": "PnHGlZtcNEAI"
      },
      "outputs": [],
      "source": [
        "def ReLU(preactivation):\n",
        "  activation = preactivation.clip(0.0)\n",
        "  return activation\n",
        "\n",
        "def softmax(x):\n",
        "  x = np.exp(x) ;\n",
        "  x = x/ np.sum(x) ;\n",
        "  return x\n",
        "\n",
        "# Return value of phi that doesn't depend on any of the inputs\n",
        "def get_phi():\n",
        "  return np.array([0.2, 0.1, 0.4, 0.05, 0.25])\n",
        "\n",
        "# Compute values of phi that depend on h1\n",
        "def shallow_network_phi_h1(h1, n_hidden=10):\n",
        "  # For neatness of code, we'll just define the parameters in the network definition itself\n",
        "  n_input = 1\n",
        "  np.random.seed(n_input)\n",
        "  beta0 = np.random.normal(size=(n_hidden,1))\n",
        "  Omega0 = np.random.normal(size=(n_hidden, n_input))\n",
        "  beta1 = np.random.normal(size=(5,1))\n",
        "  Omega1 = np.random.normal(size=(5, n_hidden))\n",
        "  return softmax(beta1 + Omega1 @ ReLU(beta0 + Omega0 @ np.array([[h1]])))\n",
        "\n",
        "# Compute values of phi that depend on h1 and h2\n",
        "def shallow_network_phi_h1h2(h1,h2,n_hidden=10):\n",
        "  # For neatness of code, we'll just define the parameters in the network definition itself\n",
        "  n_input = 2\n",
        "  np.random.seed(n_input)\n",
        "  beta0 = np.random.normal(size=(n_hidden,1))\n",
        "  Omega0 = np.random.normal(size=(n_hidden, n_input))\n",
        "  beta1 = np.random.normal(size=(5,1))\n",
        "  Omega1 = np.random.normal(size=(5, n_hidden))\n",
        "  return softmax(beta1 + Omega1 @ ReLU(beta0 + Omega0 @ np.array([[h1],[h2]])))\n",
        "\n",
        "# Compute values of phi that depend on h1, h2, and h3\n",
        "def shallow_network_phi_h1h2h3(h1,h2,h3, n_hidden=10):\n",
        "  # For neatness of code, we'll just define the parameters in the network definition itself\n",
        "  n_input = 3\n",
        "  np.random.seed(n_input)\n",
        "  beta0 = np.random.normal(size=(n_hidden,1))\n",
        "  Omega0 = np.random.normal(size=(n_hidden, n_input))\n",
        "  beta1 = np.random.normal(size=(5,1))\n",
        "  Omega1 = np.random.normal(size=(5, n_hidden))\n",
        "  return softmax(beta1 + Omega1 @ ReLU(beta0 + Omega0 @ np.array([[h1],[h2],[h3]])))"
      ]
    },
    {
      "cell_type": "markdown",
      "metadata": {
        "id": "8fXeG4V44GVH"
      },
      "source": [
        "The forward mapping as shown in figure 16.7 a"
      ]
    },
    {
      "cell_type": "code",
      "execution_count": 27,
      "metadata": {
        "id": "N1zjnIoX0TRP"
      },
      "outputs": [],
      "source": [
        "def forward_mapping(h1,h2,h3,h4):\n",
        "  #TODO implement the forward mapping\n",
        "  #Replace this line:\n",
        "  h_prime1 = g(h1,get_phi())\n",
        "  h_prime2 = g(h2,shallow_network_phi_h1(h1))\n",
        "  h_prime3 = g(h3,shallow_network_phi_h1h2(h1,h2))\n",
        "  h_prime4 = g(h4,shallow_network_phi_h1h2h3(h1,h2,h3))\n",
        "\n",
        "  return h_prime1, h_prime2, h_prime3, h_prime4"
      ]
    },
    {
      "cell_type": "markdown",
      "metadata": {
        "id": "H8vQfFwI4L7r"
      },
      "source": [
        "The backward mapping as shown in figure 16.7b"
      ]
    },
    {
      "cell_type": "code",
      "execution_count": 30,
      "metadata": {
        "id": "HNcQTiVE4DMJ"
      },
      "outputs": [],
      "source": [
        "def backward_mapping(h1_prime,h2_prime,h3_prime,h4_prime):\n",
        "  #TODO implement the backward mapping\n",
        "  #Replace this line:\n",
        "  h1 = g_inverse(h1_prime,get_phi())\n",
        "  h2 = g_inverse(h2_prime,shallow_network_phi_h1(h1))\n",
        "  h3 = g_inverse(h3_prime,shallow_network_phi_h1h2(h1,h2))\n",
        "  h4 = g_inverse(h4_prime,shallow_network_phi_h1h2h3(h1,h2,h3))\n",
        "\n",
        "  return h1,h2,h3,h4"
      ]
    },
    {
      "cell_type": "markdown",
      "metadata": {
        "id": "W2IxFkuyZJyn"
      },
      "source": [
        "Finally, let's make sure that the network really can be inverted"
      ]
    },
    {
      "cell_type": "code",
      "execution_count": 31,
      "metadata": {
        "id": "RT7qvEFp700I"
      },
      "outputs": [
        {
          "name": "stdout",
          "output_type": "stream",
          "text": [
            "Original h values 0.220,0.410,0.830,0.530\n",
            "h_prime values 0.210,0.025,0.409,0.086\n",
            "Reconstructed h values 0.220,0.410,0.830,0.530\n"
          ]
        }
      ],
      "source": [
        "# Test the network to see if it does invert correctly\n",
        "h1 = 0.22; h2 = 0.41; h3 = 0.83; h4 = 0.53\n",
        "print(\"Original h values %3.3f,%3.3f,%3.3f,%3.3f\"%(h1,h2,h3,h4))\n",
        "h1_prime, h2_prime, h3_prime, h4_prime = forward_mapping(h1,h2,h3,h4)\n",
        "print(\"h_prime values %3.3f,%3.3f,%3.3f,%3.3f\"%(h1_prime,h2_prime,h3_prime,h4_prime))\n",
        "h1,h2,h3,h4 =  backward_mapping(h1_prime,h2_prime,h3_prime,h4_prime)\n",
        "print(\"Reconstructed h values %3.3f,%3.3f,%3.3f,%3.3f\"%(h1,h2,h3,h4))"
      ]
    }
  ],
  "metadata": {
    "colab": {
      "authorship_tag": "ABX9TyMe8jb5kLJqkNSE/AwExTpa",
      "include_colab_link": true,
      "provenance": []
    },
    "kernelspec": {
      "display_name": "Python 3",
      "name": "python3"
    },
    "language_info": {
      "codemirror_mode": {
        "name": "ipython",
        "version": 3
      },
      "file_extension": ".py",
      "mimetype": "text/x-python",
      "name": "python",
      "nbconvert_exporter": "python",
      "pygments_lexer": "ipython3",
      "version": "3.11.5"
    }
  },
  "nbformat": 4,
  "nbformat_minor": 0
}
