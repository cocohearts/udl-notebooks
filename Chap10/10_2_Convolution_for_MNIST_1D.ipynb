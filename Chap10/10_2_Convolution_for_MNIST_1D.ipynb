{
  "cells": [
    {
      "cell_type": "markdown",
      "metadata": {
        "colab_type": "text",
        "id": "view-in-github"
      },
      "source": [
        "<a href=\"https://colab.research.google.com/github/udlbook/udlbook/blob/main/Notebooks/Chap10/10_2_Convolution_for_MNIST_1D.ipynb\" target=\"_parent\"><img src=\"https://colab.research.google.com/assets/colab-badge.svg\" alt=\"Open In Colab\"/></a>"
      ]
    },
    {
      "cell_type": "markdown",
      "metadata": {
        "id": "t9vk9Elugvmi"
      },
      "source": [
        "# **Notebook 10.2: Convolution for MNIST-1D**\n",
        "\n",
        "This notebook investigates a 1D convolutional network for MNIST-1D as in figure 10.7 and 10.8a.\n",
        "\n",
        "Work through the cells below, running each cell in turn. In various places you will see the words \"TO DO\". Follow the instructions at these places and make predictions about what is going to happen or write code to complete the functions.\n",
        "\n",
        "Contact me at udlbookmail@gmail.com if you find any mistakes or have any suggestions.\n",
        "\n"
      ]
    },
    {
      "cell_type": "code",
      "execution_count": 15,
      "metadata": {
        "id": "D5yLObtZCi9J"
      },
      "outputs": [],
      "source": [
        "# Run this if you're in a Colab to make a local copy of the MNIST 1D repository\n",
        "# !git clone https://github.com/greydanus/mnist1d"
      ]
    },
    {
      "cell_type": "code",
      "execution_count": 16,
      "metadata": {
        "id": "YrXWAH7sUWvU"
      },
      "outputs": [],
      "source": [
        "import numpy as np\n",
        "import os\n",
        "import torch, torch.nn as nn\n",
        "from torch.utils.data import TensorDataset, DataLoader\n",
        "from torch.optim.lr_scheduler import StepLR\n",
        "import matplotlib.pyplot as plt\n",
        "import mnist1d\n",
        "import random"
      ]
    },
    {
      "cell_type": "code",
      "execution_count": 17,
      "metadata": {
        "id": "twI72ZCrCt5z"
      },
      "outputs": [
        {
          "name": "stdout",
          "output_type": "stream",
          "text": [
            "Successfully loaded data from ./mnist1d_data.pkl\n",
            "Examples in training set: 4000\n",
            "Examples in test set: 1000\n",
            "Length of each example: 40\n"
          ]
        }
      ],
      "source": [
        "args = mnist1d.data.get_dataset_args()\n",
        "data = mnist1d.data.get_dataset(args, path='./mnist1d_data.pkl', download=False, regenerate=False)\n",
        "\n",
        "# The training and test input and outputs are in\n",
        "# data['x'], data['y'], data['x_test'], and data['y_test']\n",
        "print(\"Examples in training set: {}\".format(len(data['y'])))\n",
        "print(\"Examples in test set: {}\".format(len(data['y_test'])))\n",
        "print(\"Length of each example: {}\".format(data['x'].shape[-1]))"
      ]
    },
    {
      "cell_type": "code",
      "execution_count": 18,
      "metadata": {
        "id": "8bKADvLHbiV5"
      },
      "outputs": [
        {
          "name": "stdout",
          "output_type": "stream",
          "text": [
            "Train data: 4000 examples (columns), each of which has 40 dimensions (rows)\n",
            "Validation data: 1000 examples (columns), each of which has 40 dimensions (rows)\n"
          ]
        }
      ],
      "source": [
        "# Load in the data\n",
        "train_data_x = data['x'].transpose()\n",
        "train_data_y = data['y']\n",
        "val_data_x = data['x_test'].transpose()\n",
        "val_data_y = data['y_test']\n",
        "# Print out sizes\n",
        "print(\"Train data: %d examples (columns), each of which has %d dimensions (rows)\"%((train_data_x.shape[1],train_data_x.shape[0])))\n",
        "print(\"Validation data: %d examples (columns), each of which has %d dimensions (rows)\"%((val_data_x.shape[1],val_data_x.shape[0])))"
      ]
    },
    {
      "cell_type": "markdown",
      "metadata": {
        "id": "_sFvRDGrl4qe"
      },
      "source": [
        "Define the network"
      ]
    },
    {
      "cell_type": "code",
      "execution_count": 19,
      "metadata": {
        "id": "FslroPJJffrh"
      },
      "outputs": [],
      "source": [
        "# There are 40 input dimensions and 10 output dimensions for this data\n",
        "# The inputs correspond to the 40 offsets in the MNIST1D template.\n",
        "D_i = 40\n",
        "# The outputs correspond to the 10 digits\n",
        "D_o = 10\n",
        "\n",
        "\n",
        "# TODO Create a model with the following layers\n",
        "# 1. Convolutional layer, (input=length 40 and 1 channel, kernel size 3, stride 2, padding=\"valid\", 15 output channels )\n",
        "# 2. ReLU\n",
        "# 3. Convolutional layer, (input=length 19 and 15 channels, kernel size 3, stride 2, padding=\"valid\", 15 output channels )\n",
        "# 4. ReLU\n",
        "# 5. Convolutional layer, (input=length 9 and 15 channels, kernel size 3, stride 2, padding=\"valid\", 15 output channels)\n",
        "# 6. ReLU\n",
        "# 7. Flatten (converts 4x15) to length 60\n",
        "# 8. Linear layer (input size = 60, output size = 10)\n",
        "# References:\n",
        "# https://pytorch.org/docs/1.13/generated/torch.nn.Conv1d.html?highlight=conv1d#torch.nn.Conv1d\n",
        "# https://pytorch.org/docs/stable/generated/torch.nn.Flatten.html\n",
        "# https://pytorch.org/docs/1.13/generated/torch.nn.Linear.html?highlight=linear#torch.nn.Linear\n",
        "\n",
        "# NOTE THAT THE CONVOLUTIONAL LAYERS NEED TO TAKE THE NUMBER OF INPUT CHANNELS AS A PARAMETER\n",
        "# AND NOT THE INPUT SIZE.\n",
        "\n",
        "# Replace the following function:\n",
        "model = nn.Sequential(\n",
        "nn.Conv1d(in_channels=1,out_channels=15,kernel_size=3,stride=2,padding=\"valid\"),\n",
        "nn.ReLU(),\n",
        "nn.Conv1d(in_channels=15,out_channels=15,kernel_size=3,stride=2,padding=\"valid\"),\n",
        "nn.ReLU(),\n",
        "nn.Conv1d(in_channels=15,out_channels=15,kernel_size=3,stride=2,padding=\"valid\"),\n",
        "nn.ReLU(),\n",
        "nn.Flatten(),\n",
        "nn.Linear(in_features=60,out_features=10)\n",
        ")"
      ]
    },
    {
      "cell_type": "code",
      "execution_count": 20,
      "metadata": {
        "id": "YgLaex1pfhqz"
      },
      "outputs": [],
      "source": [
        "# He initialization of weights\n",
        "def weights_init(layer_in):\n",
        "  if isinstance(layer_in, nn.Linear):\n",
        "    nn.init.kaiming_uniform_(layer_in.weight)\n",
        "    layer_in.bias.data.fill_(0.0)"
      ]
    },
    {
      "cell_type": "code",
      "execution_count": 21,
      "metadata": {
        "id": "NYw8I_3mmX5c"
      },
      "outputs": [
        {
          "name": "stdout",
          "output_type": "stream",
          "text": [
            "Epoch     0, train loss 1.742905, train error 70.55,  val loss 1.768707, percent error 72.50\n",
            "Epoch     1, train loss 1.436693, train error 56.75,  val loss 1.459013, percent error 61.80\n",
            "Epoch     2, train loss 1.332983, train error 54.22,  val loss 1.366633, percent error 59.10\n",
            "Epoch     3, train loss 1.345602, train error 52.97,  val loss 1.377398, percent error 57.60\n",
            "Epoch     4, train loss 1.218636, train error 49.10,  val loss 1.260970, percent error 52.50\n",
            "Epoch     5, train loss 1.171535, train error 46.05,  val loss 1.224195, percent error 49.70\n",
            "Epoch     6, train loss 1.061005, train error 42.05,  val loss 1.108637, percent error 44.60\n",
            "Epoch     7, train loss 0.995332, train error 38.38,  val loss 1.032528, percent error 40.40\n",
            "Epoch     8, train loss 0.950862, train error 37.42,  val loss 1.017865, percent error 41.30\n",
            "Epoch     9, train loss 0.876794, train error 35.88,  val loss 0.943499, percent error 37.40\n",
            "Epoch    10, train loss 0.763159, train error 30.20,  val loss 0.839027, percent error 33.40\n",
            "Epoch    11, train loss 0.774936, train error 30.35,  val loss 0.857333, percent error 33.10\n",
            "Epoch    12, train loss 0.715026, train error 28.22,  val loss 0.803986, percent error 30.00\n",
            "Epoch    13, train loss 0.626543, train error 24.97,  val loss 0.717174, percent error 29.20\n",
            "Epoch    14, train loss 0.642865, train error 25.22,  val loss 0.709665, percent error 26.90\n",
            "Epoch    15, train loss 0.557207, train error 21.62,  val loss 0.651447, percent error 24.30\n",
            "Epoch    16, train loss 0.535707, train error 20.70,  val loss 0.625097, percent error 23.80\n",
            "Epoch    17, train loss 0.437379, train error 17.07,  val loss 0.552135, percent error 20.30\n",
            "Epoch    18, train loss 0.393007, train error 15.43,  val loss 0.513564, percent error 19.20\n",
            "Epoch    19, train loss 0.435396, train error 17.93,  val loss 0.584539, percent error 21.90\n",
            "Epoch    20, train loss 0.329579, train error 13.12,  val loss 0.473010, percent error 19.20\n",
            "Epoch    21, train loss 0.284009, train error 10.72,  val loss 0.417879, percent error 15.80\n",
            "Epoch    22, train loss 0.273530, train error 10.25,  val loss 0.414053, percent error 15.10\n",
            "Epoch    23, train loss 0.274643, train error 11.12,  val loss 0.413330, percent error 13.80\n",
            "Epoch    24, train loss 0.290568, train error 11.97,  val loss 0.427331, percent error 15.50\n",
            "Epoch    25, train loss 0.259809, train error 9.85,  val loss 0.407893, percent error 13.60\n",
            "Epoch    26, train loss 0.227404, train error 8.47,  val loss 0.385602, percent error 14.00\n",
            "Epoch    27, train loss 0.205088, train error 7.38,  val loss 0.371352, percent error 13.30\n",
            "Epoch    28, train loss 0.202536, train error 7.57,  val loss 0.389885, percent error 14.20\n",
            "Epoch    29, train loss 0.201442, train error 7.35,  val loss 0.387472, percent error 13.30\n",
            "Epoch    30, train loss 0.192232, train error 6.80,  val loss 0.382369, percent error 12.90\n",
            "Epoch    31, train loss 0.183381, train error 6.93,  val loss 0.364950, percent error 12.70\n",
            "Epoch    32, train loss 0.187670, train error 7.12,  val loss 0.392080, percent error 13.80\n",
            "Epoch    33, train loss 0.156609, train error 5.20,  val loss 0.348844, percent error 12.30\n",
            "Epoch    34, train loss 0.166225, train error 5.88,  val loss 0.374292, percent error 12.30\n",
            "Epoch    35, train loss 0.140300, train error 4.85,  val loss 0.367612, percent error 11.40\n",
            "Epoch    36, train loss 0.127216, train error 4.40,  val loss 0.329787, percent error 11.50\n",
            "Epoch    37, train loss 0.120644, train error 4.18,  val loss 0.361184, percent error 11.00\n",
            "Epoch    38, train loss 0.119027, train error 3.95,  val loss 0.340950, percent error 10.60\n",
            "Epoch    39, train loss 0.115003, train error 3.65,  val loss 0.365688, percent error 10.90\n",
            "Epoch    40, train loss 0.096055, train error 3.00,  val loss 0.335607, percent error 10.10\n",
            "Epoch    41, train loss 0.092349, train error 2.88,  val loss 0.341842, percent error 10.00\n",
            "Epoch    42, train loss 0.091072, train error 3.05,  val loss 0.337626, percent error 10.30\n",
            "Epoch    43, train loss 0.089446, train error 2.75,  val loss 0.343252, percent error 10.20\n",
            "Epoch    44, train loss 0.082765, train error 2.35,  val loss 0.338688, percent error 10.00\n",
            "Epoch    45, train loss 0.080807, train error 2.40,  val loss 0.341752, percent error 9.70\n",
            "Epoch    46, train loss 0.080293, train error 2.32,  val loss 0.326833, percent error 9.00\n",
            "Epoch    47, train loss 0.082023, train error 2.38,  val loss 0.357690, percent error 11.10\n",
            "Epoch    48, train loss 0.077468, train error 2.38,  val loss 0.349434, percent error 10.00\n",
            "Epoch    49, train loss 0.075658, train error 2.20,  val loss 0.351668, percent error 9.80\n",
            "Epoch    50, train loss 0.073714, train error 2.15,  val loss 0.354580, percent error 9.80\n",
            "Epoch    51, train loss 0.076038, train error 2.18,  val loss 0.370294, percent error 10.30\n",
            "Epoch    52, train loss 0.069476, train error 1.88,  val loss 0.356276, percent error 9.90\n",
            "Epoch    53, train loss 0.067745, train error 1.80,  val loss 0.361460, percent error 10.00\n",
            "Epoch    54, train loss 0.066816, train error 1.90,  val loss 0.359633, percent error 9.50\n",
            "Epoch    55, train loss 0.066182, train error 1.85,  val loss 0.359080, percent error 10.10\n",
            "Epoch    56, train loss 0.059903, train error 1.53,  val loss 0.366118, percent error 9.80\n",
            "Epoch    57, train loss 0.060228, train error 1.57,  val loss 0.370517, percent error 10.30\n",
            "Epoch    58, train loss 0.059281, train error 1.82,  val loss 0.369645, percent error 9.80\n",
            "Epoch    59, train loss 0.061645, train error 2.03,  val loss 0.368728, percent error 9.30\n",
            "Epoch    60, train loss 0.052367, train error 1.28,  val loss 0.374475, percent error 9.50\n",
            "Epoch    61, train loss 0.052471, train error 1.12,  val loss 0.378223, percent error 10.20\n",
            "Epoch    62, train loss 0.051094, train error 1.12,  val loss 0.374600, percent error 10.10\n",
            "Epoch    63, train loss 0.051737, train error 1.18,  val loss 0.380011, percent error 9.70\n",
            "Epoch    64, train loss 0.049621, train error 1.00,  val loss 0.376115, percent error 9.80\n",
            "Epoch    65, train loss 0.049724, train error 1.03,  val loss 0.372762, percent error 9.20\n",
            "Epoch    66, train loss 0.049258, train error 0.95,  val loss 0.380286, percent error 9.60\n",
            "Epoch    67, train loss 0.049318, train error 1.03,  val loss 0.386222, percent error 9.50\n",
            "Epoch    68, train loss 0.047996, train error 1.12,  val loss 0.384338, percent error 10.00\n",
            "Epoch    69, train loss 0.046043, train error 0.95,  val loss 0.383122, percent error 9.20\n",
            "Epoch    70, train loss 0.047732, train error 1.05,  val loss 0.386887, percent error 10.30\n",
            "Epoch    71, train loss 0.046625, train error 0.90,  val loss 0.389500, percent error 9.80\n",
            "Epoch    72, train loss 0.045075, train error 0.85,  val loss 0.385081, percent error 9.60\n",
            "Epoch    73, train loss 0.047639, train error 0.97,  val loss 0.387124, percent error 10.10\n",
            "Epoch    74, train loss 0.045966, train error 0.97,  val loss 0.390523, percent error 10.10\n",
            "Epoch    75, train loss 0.043367, train error 0.82,  val loss 0.388944, percent error 9.30\n",
            "Epoch    76, train loss 0.042849, train error 0.90,  val loss 0.394076, percent error 10.20\n",
            "Epoch    77, train loss 0.044082, train error 0.88,  val loss 0.388467, percent error 9.80\n",
            "Epoch    78, train loss 0.042155, train error 0.80,  val loss 0.394459, percent error 9.90\n",
            "Epoch    79, train loss 0.041020, train error 0.70,  val loss 0.391525, percent error 9.70\n",
            "Epoch    80, train loss 0.039860, train error 0.78,  val loss 0.397510, percent error 9.60\n",
            "Epoch    81, train loss 0.039802, train error 0.78,  val loss 0.395333, percent error 9.60\n",
            "Epoch    82, train loss 0.039513, train error 0.72,  val loss 0.396396, percent error 9.90\n",
            "Epoch    83, train loss 0.039235, train error 0.70,  val loss 0.398919, percent error 9.90\n",
            "Epoch    84, train loss 0.040363, train error 0.78,  val loss 0.399674, percent error 9.90\n",
            "Epoch    85, train loss 0.039770, train error 0.78,  val loss 0.400912, percent error 9.30\n",
            "Epoch    86, train loss 0.038619, train error 0.65,  val loss 0.401741, percent error 9.60\n",
            "Epoch    87, train loss 0.038222, train error 0.65,  val loss 0.398283, percent error 9.40\n",
            "Epoch    88, train loss 0.038261, train error 0.62,  val loss 0.399847, percent error 9.60\n",
            "Epoch    89, train loss 0.037700, train error 0.68,  val loss 0.401650, percent error 9.20\n",
            "Epoch    90, train loss 0.037884, train error 0.65,  val loss 0.400717, percent error 9.70\n",
            "Epoch    91, train loss 0.037418, train error 0.62,  val loss 0.400352, percent error 9.80\n",
            "Epoch    92, train loss 0.037203, train error 0.68,  val loss 0.404935, percent error 9.30\n",
            "Epoch    93, train loss 0.037313, train error 0.65,  val loss 0.406652, percent error 9.30\n",
            "Epoch    94, train loss 0.037018, train error 0.62,  val loss 0.403850, percent error 9.70\n",
            "Epoch    95, train loss 0.036908, train error 0.62,  val loss 0.402779, percent error 9.80\n",
            "Epoch    96, train loss 0.036302, train error 0.57,  val loss 0.405599, percent error 9.80\n",
            "Epoch    97, train loss 0.036001, train error 0.57,  val loss 0.406328, percent error 9.60\n",
            "Epoch    98, train loss 0.035893, train error 0.60,  val loss 0.406275, percent error 9.80\n",
            "Epoch    99, train loss 0.036224, train error 0.60,  val loss 0.405971, percent error 9.60\n"
          ]
        },
        {
          "data": {
            "image/png": "[encoded data removed]",
            "text/plain": [
              "<Figure size 640x480 with 1 Axes>"
            ]
          },
          "metadata": {},
          "output_type": "display_data"
        }
      ],
      "source": [
        "# choose cross entropy loss function (equation 5.24 in the loss notes)\n",
        "loss_function = nn.CrossEntropyLoss()\n",
        "# construct SGD optimizer and initialize learning rate and momentum\n",
        "optimizer = torch.optim.SGD(model.parameters(), lr = 0.05, momentum=0.9)\n",
        "# object that decreases learning rate by half every 20 epochs\n",
        "scheduler = StepLR(optimizer, step_size=20, gamma=0.5)\n",
        "# create 100 dummy data points and store in data loader class\n",
        "x_train = torch.tensor(train_data_x.transpose().astype('float32'))\n",
        "y_train = torch.tensor(train_data_y.astype('long')).long()\n",
        "x_val= torch.tensor(val_data_x.transpose().astype('float32'))\n",
        "y_val = torch.tensor(val_data_y.astype('long')).long()\n",
        "\n",
        "# load the data into a class that creates the batches\n",
        "data_loader = DataLoader(TensorDataset(x_train,y_train), batch_size=100, shuffle=True, worker_init_fn=np.random.seed(1))\n",
        "\n",
        "# Initialize model weights\n",
        "model.apply(weights_init)\n",
        "\n",
        "# loop over the dataset n_epoch times\n",
        "n_epoch = 100\n",
        "# store the loss and the % correct at each epoch\n",
        "losses_train = np.zeros((n_epoch))\n",
        "errors_train = np.zeros((n_epoch))\n",
        "losses_val = np.zeros((n_epoch))\n",
        "errors_val = np.zeros((n_epoch))\n",
        "\n",
        "for epoch in range(n_epoch):\n",
        "  # loop over batches\n",
        "  for i, data in enumerate(data_loader):\n",
        "    # retrieve inputs and labels for this batch\n",
        "    x_batch, y_batch = data\n",
        "    # zero the parameter gradients\n",
        "    optimizer.zero_grad()\n",
        "    # forward pass -- calculate model output\n",
        "    pred = model(x_batch[:,None,:])\n",
        "    # compute the loss\n",
        "    loss = loss_function(pred, y_batch)\n",
        "    # backward pass\n",
        "    loss.backward()\n",
        "    # SGD update\n",
        "    optimizer.step()\n",
        "\n",
        "  # Run whole dataset to get statistics -- normally wouldn't do this\n",
        "  pred_train = model(x_train[:,None,:])\n",
        "  pred_val = model(x_val[:,None,:])\n",
        "  _, predicted_train_class = torch.max(pred_train.data, 1)\n",
        "  _, predicted_val_class = torch.max(pred_val.data, 1)\n",
        "  errors_train[epoch] = 100 - 100 * (predicted_train_class == y_train).float().sum() / len(y_train)\n",
        "  errors_val[epoch]= 100 - 100 * (predicted_val_class == y_val).float().sum() / len(y_val)\n",
        "  losses_train[epoch] = loss_function(pred_train, y_train).item()\n",
        "  losses_val[epoch]= loss_function(pred_val, y_val).item()\n",
        "  print(f'Epoch {epoch:5d}, train loss {losses_train[epoch]:.6f}, train error {errors_train[epoch]:3.2f},  val loss {losses_val[epoch]:.6f}, percent error {errors_val[epoch]:3.2f}')\n",
        "\n",
        "  # tell scheduler to consider updating learning rate\n",
        "  scheduler.step()\n",
        "\n",
        "# Plot the results\n",
        "fig, ax = plt.subplots()\n",
        "ax.plot(errors_train,'r-',label='train')\n",
        "ax.plot(errors_val,'b-',label='validation')\n",
        "ax.set_ylim(0,100); ax.set_xlim(0,n_epoch)\n",
        "ax.set_xlabel('Epoch'); ax.set_ylabel('Error')\n",
        "ax.set_title('Part I: Validation Result %3.2f'%(errors_val[-1]))\n",
        "ax.legend()\n",
        "plt.show()"
      ]
    }
  ],
  "metadata": {
    "colab": {
      "authorship_tag": "ABX9TyNJodaaCLMRWL9vTl8B/iLI",
      "include_colab_link": true,
      "provenance": []
    },
    "kernelspec": {
      "display_name": "Python 3",
      "name": "python3"
    },
    "language_info": {
      "codemirror_mode": {
        "name": "ipython",
        "version": 3
      },
      "file_extension": ".py",
      "mimetype": "text/x-python",
      "name": "python",
      "nbconvert_exporter": "python",
      "pygments_lexer": "ipython3",
      "version": "3.9.12"
    }
  },
  "nbformat": 4,
  "nbformat_minor": 0
}
