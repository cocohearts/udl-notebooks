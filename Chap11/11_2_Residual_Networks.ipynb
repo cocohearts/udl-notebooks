{
  "cells": [
    {
      "cell_type": "markdown",
      "metadata": {
        "colab_type": "text",
        "id": "view-in-github"
      },
      "source": [
        "<a href=\"https://colab.research.google.com/github/udlbook/udlbook/blob/main/Notebooks/Chap11/11_2_Residual_Networks.ipynb\" target=\"_parent\"><img src=\"https://colab.research.google.com/assets/colab-badge.svg\" alt=\"Open In Colab\"/></a>"
      ]
    },
    {
      "cell_type": "markdown",
      "metadata": {
        "id": "t9vk9Elugvmi"
      },
      "source": [
        "# **Notebook 11.2: Residual Networks**\n",
        "\n",
        "This notebook adapts the networks for MNIST1D to use residual connections.\n",
        "\n",
        "Work through the cells below, running each cell in turn. In various places you will see the words \"TO DO\". Follow the instructions at these places and make predictions about what is going to happen or write code to complete the functions.\n",
        "\n",
        "Contact me at udlbookmail@gmail.com if you find any mistakes or have any suggestions.\n",
        "\n"
      ]
    },
    {
      "cell_type": "code",
      "execution_count": 9,
      "metadata": {
        "id": "D5yLObtZCi9J"
      },
      "outputs": [
        {
          "name": "stdout",
          "output_type": "stream",
          "text": [
            "fatal: destination path 'mnist1d' already exists and is not an empty directory.\n"
          ]
        }
      ],
      "source": [
        "# Run this if you're in a Colab to make a local copy of the MNIST 1D repository\n",
        "!git clone https://github.com/greydanus/mnist1d"
      ]
    },
    {
      "cell_type": "code",
      "execution_count": 10,
      "metadata": {
        "id": "YrXWAH7sUWvU"
      },
      "outputs": [],
      "source": [
        "import numpy as np\n",
        "import os\n",
        "import torch, torch.nn as nn\n",
        "from torch.utils.data import TensorDataset, DataLoader\n",
        "from torch.optim.lr_scheduler import StepLR\n",
        "import matplotlib.pyplot as plt\n",
        "import mnist1d\n",
        "import random"
      ]
    },
    {
      "cell_type": "code",
      "execution_count": 11,
      "metadata": {
        "id": "twI72ZCrCt5z"
      },
      "outputs": [
        {
          "name": "stdout",
          "output_type": "stream",
          "text": [
            "Successfully loaded data from ./mnist1d_data.pkl\n",
            "Examples in training set: 4000\n",
            "Examples in test set: 1000\n",
            "Length of each example: 40\n"
          ]
        }
      ],
      "source": [
        "args = mnist1d.data.get_dataset_args()\n",
        "data = mnist1d.data.get_dataset(args, path='./mnist1d_data.pkl', download=False, regenerate=False)\n",
        "\n",
        "# The training and test input and outputs are in\n",
        "# data['x'], data['y'], data['x_test'], and data['y_test']\n",
        "print(\"Examples in training set: {}\".format(len(data['y'])))\n",
        "print(\"Examples in test set: {}\".format(len(data['y_test'])))\n",
        "print(\"Length of each example: {}\".format(data['x'].shape[-1]))"
      ]
    },
    {
      "cell_type": "code",
      "execution_count": 12,
      "metadata": {
        "id": "8bKADvLHbiV5"
      },
      "outputs": [
        {
          "name": "stdout",
          "output_type": "stream",
          "text": [
            "Train data: 4000 examples (columns), each of which has 40 dimensions (rows)\n",
            "Validation data: 1000 examples (columns), each of which has 40 dimensions (rows)\n"
          ]
        }
      ],
      "source": [
        "# Load in the data\n",
        "train_data_x = data['x'].transpose()\n",
        "train_data_y = data['y']\n",
        "val_data_x = data['x_test'].transpose()\n",
        "val_data_y = data['y_test']\n",
        "# Print out sizes\n",
        "print(\"Train data: %d examples (columns), each of which has %d dimensions (rows)\"%((train_data_x.shape[1],train_data_x.shape[0])))\n",
        "print(\"Validation data: %d examples (columns), each of which has %d dimensions (rows)\"%((val_data_x.shape[1],val_data_x.shape[0])))"
      ]
    },
    {
      "cell_type": "markdown",
      "metadata": {
        "id": "_sFvRDGrl4qe"
      },
      "source": [
        "Define the network"
      ]
    },
    {
      "cell_type": "code",
      "execution_count": 13,
      "metadata": {
        "id": "FslroPJJffrh"
      },
      "outputs": [],
      "source": [
        "# There are 40 input dimensions and 10 output dimensions for this data\n",
        "# The inputs correspond to the 40 offsets in the MNIST1D template.\n",
        "D_i = 40\n",
        "# The outputs correspond to the 10 digits\n",
        "D_o = 10\n",
        "\n",
        "\n",
        "# We will adapt this model to have residual connections around the linear layers\n",
        "# This is the same model we used in practical 8.1, but we can't use the sequential\n",
        "# class for residual networks (which aren't strictly sequential).  Hence, I've rewritten\n",
        "# it as a model that inherits from a base class\n",
        "\n",
        "class ResidualNetwork(torch.nn.Module):\n",
        "  def __init__(self, input_size, output_size, hidden_size=100):\n",
        "    super(ResidualNetwork, self).__init__()\n",
        "    self.linear1 = nn.Linear(input_size, hidden_size)\n",
        "    self.linear2 = nn.Linear(hidden_size, hidden_size)\n",
        "    self.linear3 = nn.Linear(hidden_size, hidden_size)\n",
        "    self.linear4 = nn.Linear(hidden_size, output_size)\n",
        "    print(\"Initialized MLPBase model with {} parameters\".format(self.count_params()))\n",
        "\n",
        "  def count_params(self):\n",
        "    return sum([p.view(-1).shape[0] for p in self.parameters()])\n",
        "\n",
        "# TODO -- Add residual connections to this model\n",
        "# The order of operations within each block should similar to figure 11.5b\n",
        "# ie., linear1 first, ReLU+linear2 in first residual block, ReLU+linear3 in second residual block), linear4 at end\n",
        "# Replace this function\n",
        "  def forward(self, x):\n",
        "    h1 = self.linear1(x)\n",
        "    h2 = h1 + self.linear2(h1.relu())\n",
        "    h3 = h2 + self.linear3(h2.relu())\n",
        "    return self.linear4(h3)\n"
      ]
    },
    {
      "cell_type": "code",
      "execution_count": 14,
      "metadata": {
        "id": "YgLaex1pfhqz"
      },
      "outputs": [],
      "source": [
        "# He initialization of weights\n",
        "def weights_init(layer_in):\n",
        "  if isinstance(layer_in, nn.Linear):\n",
        "    nn.init.kaiming_uniform_(layer_in.weight)\n",
        "    layer_in.bias.data.fill_(0.0)"
      ]
    },
    {
      "cell_type": "code",
      "execution_count": 15,
      "metadata": {
        "id": "NYw8I_3mmX5c"
      },
      "outputs": [
        {
          "name": "stdout",
          "output_type": "stream",
          "text": [
            "Initialized MLPBase model with 25310 parameters\n"
          ]
        },
        {
          "name": "stdout",
          "output_type": "stream",
          "text": [
            "Epoch     0, train loss 1.552780, train error 59.80,  val loss 1.658616, percent error 66.20\n",
            "Epoch     1, train loss 1.306018, train error 49.10,  val loss 1.471602, percent error 58.80\n",
            "Epoch     2, train loss 1.079795, train error 39.35,  val loss 1.323673, percent error 52.40\n",
            "Epoch     3, train loss 1.022049, train error 38.90,  val loss 1.325911, percent error 51.70\n",
            "Epoch     4, train loss 0.847263, train error 31.32,  val loss 1.224660, percent error 47.30\n",
            "Epoch     5, train loss 0.781212, train error 29.35,  val loss 1.256665, percent error 46.70\n",
            "Epoch     6, train loss 0.589551, train error 19.80,  val loss 1.165540, percent error 44.30\n",
            "Epoch     7, train loss 0.533754, train error 18.95,  val loss 1.208827, percent error 42.50\n",
            "Epoch     8, train loss 0.494203, train error 17.72,  val loss 1.201087, percent error 40.60\n",
            "Epoch     9, train loss 0.414667, train error 15.10,  val loss 1.196389, percent error 38.50\n",
            "Epoch    10, train loss 0.365698, train error 12.28,  val loss 1.205833, percent error 39.30\n",
            "Epoch    11, train loss 0.274699, train error 8.50,  val loss 1.185909, percent error 38.30\n",
            "Epoch    12, train loss 0.289846, train error 9.57,  val loss 1.235752, percent error 38.80\n",
            "Epoch    13, train loss 0.233416, train error 7.65,  val loss 1.296895, percent error 38.00\n",
            "Epoch    14, train loss 0.234434, train error 8.47,  val loss 1.458237, percent error 38.40\n",
            "Epoch    15, train loss 0.263689, train error 9.07,  val loss 1.452040, percent error 40.60\n",
            "Epoch    16, train loss 0.181576, train error 6.07,  val loss 1.377621, percent error 36.90\n",
            "Epoch    17, train loss 0.169746, train error 5.32,  val loss 1.497752, percent error 36.80\n",
            "Epoch    18, train loss 0.125703, train error 3.47,  val loss 1.420264, percent error 34.90\n",
            "Epoch    19, train loss 0.099612, train error 2.93,  val loss 1.528371, percent error 36.20\n",
            "Epoch    20, train loss 0.027641, train error 0.20,  val loss 1.470315, percent error 33.90\n",
            "Epoch    21, train loss 0.014832, train error 0.00,  val loss 1.473883, percent error 33.10\n",
            "Epoch    22, train loss 0.011234, train error 0.00,  val loss 1.500642, percent error 33.10\n",
            "Epoch    23, train loss 0.009327, train error 0.00,  val loss 1.530971, percent error 33.20\n",
            "Epoch    24, train loss 0.008096, train error 0.00,  val loss 1.544936, percent error 33.10\n",
            "Epoch    25, train loss 0.007174, train error 0.00,  val loss 1.572052, percent error 32.60\n",
            "Epoch    26, train loss 0.006551, train error 0.00,  val loss 1.588319, percent error 32.80\n",
            "Epoch    27, train loss 0.005925, train error 0.00,  val loss 1.609839, percent error 32.60\n",
            "Epoch    28, train loss 0.005493, train error 0.00,  val loss 1.623113, percent error 32.80\n",
            "Epoch    29, train loss 0.005068, train error 0.00,  val loss 1.641146, percent error 32.70\n",
            "Epoch    30, train loss 0.004744, train error 0.00,  val loss 1.653766, percent error 32.70\n",
            "Epoch    31, train loss 0.004444, train error 0.00,  val loss 1.671049, percent error 32.90\n",
            "Epoch    32, train loss 0.004183, train error 0.00,  val loss 1.681998, percent error 32.80\n",
            "Epoch    33, train loss 0.003956, train error 0.00,  val loss 1.693443, percent error 32.90\n",
            "Epoch    34, train loss 0.003758, train error 0.00,  val loss 1.707747, percent error 33.10\n",
            "Epoch    35, train loss 0.003557, train error 0.00,  val loss 1.717666, percent error 32.90\n",
            "Epoch    36, train loss 0.003388, train error 0.00,  val loss 1.730435, percent error 33.00\n",
            "Epoch    37, train loss 0.003235, train error 0.00,  val loss 1.740383, percent error 33.00\n",
            "Epoch    38, train loss 0.003091, train error 0.00,  val loss 1.748598, percent error 33.30\n",
            "Epoch    39, train loss 0.002968, train error 0.00,  val loss 1.757247, percent error 33.10\n",
            "Epoch    40, train loss 0.002899, train error 0.00,  val loss 1.763175, percent error 33.20\n",
            "Epoch    41, train loss 0.002839, train error 0.00,  val loss 1.767849, percent error 33.00\n",
            "Epoch    42, train loss 0.002784, train error 0.00,  val loss 1.771615, percent error 33.00\n",
            "Epoch    43, train loss 0.002732, train error 0.00,  val loss 1.776692, percent error 33.00\n",
            "Epoch    44, train loss 0.002682, train error 0.00,  val loss 1.781745, percent error 33.00\n",
            "Epoch    45, train loss 0.002631, train error 0.00,  val loss 1.785060, percent error 32.90\n",
            "Epoch    46, train loss 0.002585, train error 0.00,  val loss 1.788663, percent error 32.90\n",
            "Epoch    47, train loss 0.002539, train error 0.00,  val loss 1.794030, percent error 33.10\n",
            "Epoch    48, train loss 0.002495, train error 0.00,  val loss 1.796801, percent error 33.20\n",
            "Epoch    49, train loss 0.002453, train error 0.00,  val loss 1.801169, percent error 33.10\n",
            "Epoch    50, train loss 0.002411, train error 0.00,  val loss 1.804724, percent error 33.10\n",
            "Epoch    51, train loss 0.002371, train error 0.00,  val loss 1.808077, percent error 33.00\n",
            "Epoch    52, train loss 0.002331, train error 0.00,  val loss 1.812429, percent error 33.40\n",
            "Epoch    53, train loss 0.002294, train error 0.00,  val loss 1.816045, percent error 33.10\n",
            "Epoch    54, train loss 0.002258, train error 0.00,  val loss 1.819594, percent error 33.50\n",
            "Epoch    55, train loss 0.002223, train error 0.00,  val loss 1.823325, percent error 33.20\n",
            "Epoch    56, train loss 0.002188, train error 0.00,  val loss 1.826420, percent error 33.30\n",
            "Epoch    57, train loss 0.002156, train error 0.00,  val loss 1.830388, percent error 33.30\n",
            "Epoch    58, train loss 0.002123, train error 0.00,  val loss 1.833591, percent error 33.50\n",
            "Epoch    59, train loss 0.002092, train error 0.00,  val loss 1.836398, percent error 33.30\n",
            "Epoch    60, train loss 0.002075, train error 0.00,  val loss 1.838761, percent error 33.40\n",
            "Epoch    61, train loss 0.002061, train error 0.00,  val loss 1.840292, percent error 33.40\n",
            "Epoch    62, train loss 0.002046, train error 0.00,  val loss 1.842024, percent error 33.50\n",
            "Epoch    63, train loss 0.002031, train error 0.00,  val loss 1.843489, percent error 33.40\n",
            "Epoch    64, train loss 0.002017, train error 0.00,  val loss 1.845476, percent error 33.30\n",
            "Epoch    65, train loss 0.002002, train error 0.00,  val loss 1.846450, percent error 33.40\n",
            "Epoch    66, train loss 0.001988, train error 0.00,  val loss 1.848536, percent error 33.50\n",
            "Epoch    67, train loss 0.001974, train error 0.00,  val loss 1.849916, percent error 33.50\n",
            "Epoch    68, train loss 0.001961, train error 0.00,  val loss 1.851756, percent error 33.40\n",
            "Epoch    69, train loss 0.001947, train error 0.00,  val loss 1.853283, percent error 33.50\n",
            "Epoch    70, train loss 0.001934, train error 0.00,  val loss 1.854755, percent error 33.40\n",
            "Epoch    71, train loss 0.001921, train error 0.00,  val loss 1.855937, percent error 33.30\n",
            "Epoch    72, train loss 0.001908, train error 0.00,  val loss 1.857653, percent error 33.30\n",
            "Epoch    73, train loss 0.001895, train error 0.00,  val loss 1.859280, percent error 33.30\n",
            "Epoch    74, train loss 0.001882, train error 0.00,  val loss 1.860754, percent error 33.40\n",
            "Epoch    75, train loss 0.001870, train error 0.00,  val loss 1.862380, percent error 33.50\n",
            "Epoch    76, train loss 0.001858, train error 0.00,  val loss 1.863865, percent error 33.40\n",
            "Epoch    77, train loss 0.001846, train error 0.00,  val loss 1.865240, percent error 33.30\n",
            "Epoch    78, train loss 0.001834, train error 0.00,  val loss 1.866491, percent error 33.40\n",
            "Epoch    79, train loss 0.001822, train error 0.00,  val loss 1.868414, percent error 33.40\n",
            "Epoch    80, train loss 0.001816, train error 0.00,  val loss 1.869378, percent error 33.40\n",
            "Epoch    81, train loss 0.001810, train error 0.00,  val loss 1.869847, percent error 33.30\n",
            "Epoch    82, train loss 0.001804, train error 0.00,  val loss 1.870464, percent error 33.40\n",
            "Epoch    83, train loss 0.001799, train error 0.00,  val loss 1.871330, percent error 33.30\n",
            "Epoch    84, train loss 0.001793, train error 0.00,  val loss 1.872327, percent error 33.30\n",
            "Epoch    85, train loss 0.001787, train error 0.00,  val loss 1.872851, percent error 33.40\n",
            "Epoch    86, train loss 0.001782, train error 0.00,  val loss 1.873287, percent error 33.30\n",
            "Epoch    87, train loss 0.001776, train error 0.00,  val loss 1.874131, percent error 33.30\n",
            "Epoch    88, train loss 0.001770, train error 0.00,  val loss 1.874898, percent error 33.40\n",
            "Epoch    89, train loss 0.001765, train error 0.00,  val loss 1.875697, percent error 33.30\n",
            "Epoch    90, train loss 0.001759, train error 0.00,  val loss 1.876232, percent error 33.30\n",
            "Epoch    91, train loss 0.001754, train error 0.00,  val loss 1.876856, percent error 33.30\n",
            "Epoch    92, train loss 0.001748, train error 0.00,  val loss 1.877634, percent error 33.40\n",
            "Epoch    93, train loss 0.001743, train error 0.00,  val loss 1.878304, percent error 33.30\n",
            "Epoch    94, train loss 0.001738, train error 0.00,  val loss 1.879106, percent error 33.50\n",
            "Epoch    95, train loss 0.001732, train error 0.00,  val loss 1.879565, percent error 33.30\n",
            "Epoch    96, train loss 0.001727, train error 0.00,  val loss 1.880351, percent error 33.30\n",
            "Epoch    97, train loss 0.001722, train error 0.00,  val loss 1.881274, percent error 33.30\n",
            "Epoch    98, train loss 0.001717, train error 0.00,  val loss 1.881788, percent error 33.30\n",
            "Epoch    99, train loss 0.001711, train error 0.00,  val loss 1.882427, percent error 33.30\n"
          ]
        }
      ],
      "source": [
        "#Define the model\n",
        "model = ResidualNetwork(40, 10)\n",
        "\n",
        "# choose cross entropy loss function (equation 5.24 in the loss notes)\n",
        "loss_function = nn.CrossEntropyLoss()\n",
        "# construct SGD optimizer and initialize learning rate and momentum\n",
        "optimizer = torch.optim.SGD(model.parameters(), lr = 0.05, momentum=0.9)\n",
        "# object that decreases learning rate by half every 20 epochs\n",
        "scheduler = StepLR(optimizer, step_size=20, gamma=0.5)\n",
        "# convert data to torch tensors\n",
        "x_train = torch.tensor(train_data_x.transpose().astype('float32'))\n",
        "y_train = torch.tensor(train_data_y.astype('long'))\n",
        "x_val= torch.tensor(val_data_x.transpose().astype('float32'))\n",
        "y_val = torch.tensor(val_data_y.astype('long'))\n",
        "\n",
        "# load the data into a class that creates the batches\n",
        "data_loader = DataLoader(TensorDataset(x_train,y_train), batch_size=100, shuffle=True, worker_init_fn=np.random.seed(1))\n",
        "\n",
        "# Initialize model weights\n",
        "model.apply(weights_init)\n",
        "\n",
        "# loop over the dataset n_epoch times\n",
        "n_epoch = 100\n",
        "# store the loss and the % correct at each epoch\n",
        "losses_train = np.zeros((n_epoch))\n",
        "errors_train = np.zeros((n_epoch))\n",
        "losses_val = np.zeros((n_epoch))\n",
        "errors_val = np.zeros((n_epoch))\n",
        "\n",
        "for epoch in range(n_epoch):\n",
        "  # loop over batches\n",
        "  for i, data in enumerate(data_loader):\n",
        "    # retrieve inputs and labels for this batch\n",
        "    x_batch, y_batch = data\n",
        "    # zero the parameter gradients\n",
        "    optimizer.zero_grad()\n",
        "    # forward pass -- calculate model output\n",
        "    pred = model(x_batch)\n",
        "    # compute the loss\n",
        "    loss = loss_function(pred, y_batch)\n",
        "    # backward pass\n",
        "    loss.backward()\n",
        "    # SGD update\n",
        "    optimizer.step()\n",
        "\n",
        "  # Run whole dataset to get statistics -- normally wouldn't do this\n",
        "  pred_train = model(x_train)\n",
        "  pred_val = model(x_val)\n",
        "  _, predicted_train_class = torch.max(pred_train.data, 1)\n",
        "  _, predicted_val_class = torch.max(pred_val.data, 1)\n",
        "  errors_train[epoch] = 100 - 100 * (predicted_train_class == y_train).float().sum() / len(y_train)\n",
        "  errors_val[epoch]= 100 - 100 * (predicted_val_class == y_val).float().sum() / len(y_val)\n",
        "  losses_train[epoch] = loss_function(pred_train, y_train).item()\n",
        "  losses_val[epoch]= loss_function(pred_val, y_val).item()\n",
        "  print(f'Epoch {epoch:5d}, train loss {losses_train[epoch]:.6f}, train error {errors_train[epoch]:3.2f},  val loss {losses_val[epoch]:.6f}, percent error {errors_val[epoch]:3.2f}')\n",
        "\n",
        "  # tell scheduler to consider updating learning rate\n",
        "  scheduler.step()"
      ]
    },
    {
      "cell_type": "code",
      "execution_count": 16,
      "metadata": {
        "id": "CcP_VyEmE2sv"
      },
      "outputs": [
        {
          "data": {
            "image/png": "[encoded data removed]",
            "text/plain": [
              "<Figure size 640x480 with 1 Axes>"
            ]
          },
          "metadata": {},
          "output_type": "display_data"
        }
      ],
      "source": [
        "# Plot the results\n",
        "fig, ax = plt.subplots()\n",
        "ax.plot(errors_train,'r-',label='train')\n",
        "ax.plot(errors_val,'b-',label='test')\n",
        "ax.set_ylim(0,100); ax.set_xlim(0,n_epoch)\n",
        "ax.set_xlabel('Epoch'); ax.set_ylabel('Error')\n",
        "ax.set_title('TrainError %3.2f, Val Error %3.2f'%(errors_train[-1],errors_val[-1]))\n",
        "ax.legend()\n",
        "plt.show()"
      ]
    },
    {
      "cell_type": "markdown",
      "metadata": {
        "id": "wMmqhmxuAx0M"
      },
      "source": [
        "The primary motivation of residual networks is to allow training of much deeper networks.   \n",
        "\n",
        "TODO: Try running this network with and without the residual connections.  Does adding the residual connections change the performance?"
      ]
    }
  ],
  "metadata": {
    "colab": {
      "authorship_tag": "ABX9TyMXS3SPB4cS/4qxix0lH/Hq",
      "include_colab_link": true,
      "provenance": []
    },
    "kernelspec": {
      "display_name": "Python 3",
      "name": "python3"
    },
    "language_info": {
      "codemirror_mode": {
        "name": "ipython",
        "version": 3
      },
      "file_extension": ".py",
      "mimetype": "text/x-python",
      "name": "python",
      "nbconvert_exporter": "python",
      "pygments_lexer": "ipython3",
      "version": "3.9.12"
    }
  },
  "nbformat": 4,
  "nbformat_minor": 0
}
