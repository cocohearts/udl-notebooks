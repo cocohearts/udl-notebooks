{
  "cells": [
    {
      "cell_type": "markdown",
      "metadata": {
        "colab_type": "text",
        "id": "view-in-github"
      },
      "source": [
        "<a href=\"https://colab.research.google.com/github/udlbook/udlbook/blob/main/Notebooks/Chap11/11_2_Residual_Networks.ipynb\" target=\"_parent\"><img src=\"https://colab.research.google.com/assets/colab-badge.svg\" alt=\"Open In Colab\"/></a>"
      ]
    },
    {
      "cell_type": "markdown",
      "metadata": {
        "id": "t9vk9Elugvmi"
      },
      "source": [
        "# **Notebook 11.2: Residual Networks**\n",
        "\n",
        "This notebook adapts the networks for MNIST1D to use residual connections.\n",
        "\n",
        "Work through the cells below, running each cell in turn. In various places you will see the words \"TO DO\". Follow the instructions at these places and make predictions about what is going to happen or write code to complete the functions.\n",
        "\n",
        "Contact me at udlbookmail@gmail.com if you find any mistakes or have any suggestions.\n",
        "\n"
      ]
    },
    {
      "cell_type": "code",
      "execution_count": 17,
      "metadata": {
        "id": "D5yLObtZCi9J"
      },
      "outputs": [
        {
          "name": "stdout",
          "output_type": "stream",
          "text": [
            "fatal: destination path 'mnist1d' already exists and is not an empty directory.\n"
          ]
        }
      ],
      "source": [
        "# Run this if you're in a Colab to make a local copy of the MNIST 1D repository\n",
        "!git clone https://github.com/greydanus/mnist1d"
      ]
    },
    {
      "cell_type": "code",
      "execution_count": 18,
      "metadata": {
        "id": "YrXWAH7sUWvU"
      },
      "outputs": [],
      "source": [
        "import numpy as np\n",
        "import os\n",
        "import torch, torch.nn as nn\n",
        "from torch.utils.data import TensorDataset, DataLoader\n",
        "from torch.optim.lr_scheduler import StepLR\n",
        "import matplotlib.pyplot as plt\n",
        "import mnist1d\n",
        "import random"
      ]
    },
    {
      "cell_type": "code",
      "execution_count": 19,
      "metadata": {
        "id": "twI72ZCrCt5z"
      },
      "outputs": [
        {
          "name": "stdout",
          "output_type": "stream",
          "text": [
            "Successfully loaded data from ./mnist1d_data.pkl\n",
            "Examples in training set: 4000\n",
            "Examples in test set: 1000\n",
            "Length of each example: 40\n"
          ]
        }
      ],
      "source": [
        "args = mnist1d.data.get_dataset_args()\n",
        "data = mnist1d.data.get_dataset(args, path='./mnist1d_data.pkl', download=False, regenerate=False)\n",
        "\n",
        "# The training and test input and outputs are in\n",
        "# data['x'], data['y'], data['x_test'], and data['y_test']\n",
        "print(\"Examples in training set: {}\".format(len(data['y'])))\n",
        "print(\"Examples in test set: {}\".format(len(data['y_test'])))\n",
        "print(\"Length of each example: {}\".format(data['x'].shape[-1]))"
      ]
    },
    {
      "cell_type": "code",
      "execution_count": 20,
      "metadata": {
        "id": "8bKADvLHbiV5"
      },
      "outputs": [
        {
          "name": "stdout",
          "output_type": "stream",
          "text": [
            "Train data: 4000 examples (columns), each of which has 40 dimensions (rows)\n",
            "Validation data: 1000 examples (columns), each of which has 40 dimensions (rows)\n"
          ]
        }
      ],
      "source": [
        "# Load in the data\n",
        "train_data_x = data['x'].transpose()\n",
        "train_data_y = data['y']\n",
        "val_data_x = data['x_test'].transpose()\n",
        "val_data_y = data['y_test']\n",
        "# Print out sizes\n",
        "print(\"Train data: %d examples (columns), each of which has %d dimensions (rows)\"%((train_data_x.shape[1],train_data_x.shape[0])))\n",
        "print(\"Validation data: %d examples (columns), each of which has %d dimensions (rows)\"%((val_data_x.shape[1],val_data_x.shape[0])))"
      ]
    },
    {
      "cell_type": "markdown",
      "metadata": {
        "id": "_sFvRDGrl4qe"
      },
      "source": [
        "Define the network"
      ]
    },
    {
      "cell_type": "code",
      "execution_count": 21,
      "metadata": {
        "id": "FslroPJJffrh"
      },
      "outputs": [],
      "source": [
        "# There are 40 input dimensions and 10 output dimensions for this data\n",
        "# The inputs correspond to the 40 offsets in the MNIST1D template.\n",
        "D_i = 40\n",
        "# The outputs correspond to the 10 digits\n",
        "D_o = 10\n",
        "\n",
        "\n",
        "# We will adapt this model to have residual connections around the linear layers\n",
        "# This is the same model we used in practical 8.1, but we can't use the sequential\n",
        "# class for residual networks (which aren't strictly sequential).  Hence, I've rewritten\n",
        "# it as a model that inherits from a base class\n",
        "\n",
        "class ResidualNetwork(torch.nn.Module):\n",
        "  def __init__(self, input_size, output_size, hidden_size=100):\n",
        "    super(ResidualNetwork, self).__init__()\n",
        "    self.linear1 = nn.Linear(input_size, hidden_size)\n",
        "    self.linear2 = nn.Linear(hidden_size, hidden_size)\n",
        "    self.linear3 = nn.Linear(hidden_size, hidden_size)\n",
        "    self.linear4 = nn.Linear(hidden_size, output_size)\n",
        "    print(\"Initialized MLPBase model with {} parameters\".format(self.count_params()))\n",
        "\n",
        "  def count_params(self):\n",
        "    return sum([p.view(-1).shape[0] for p in self.parameters()])\n",
        "\n",
        "# TODO -- Add residual connections to this model\n",
        "# The order of operations within each block should similar to figure 11.5b\n",
        "# ie., linear1 first, ReLU+linear2 in first residual block, ReLU+linear3 in second residual block), linear4 at end\n",
        "# Replace this function\n",
        "  def forward(self, x):\n",
        "    h1 = self.linear1(x)\n",
        "    h2 = h1 + self.linear2(h1.relu())\n",
        "    h3 = h2 + self.linear3(h2.relu())\n",
        "    return self.linear4(h3)\n"
      ]
    },
    {
      "cell_type": "code",
      "execution_count": 22,
      "metadata": {
        "id": "YgLaex1pfhqz"
      },
      "outputs": [],
      "source": [
        "# He initialization of weights\n",
        "def weights_init(layer_in):\n",
        "  if isinstance(layer_in, nn.Linear):\n",
        "    nn.init.kaiming_uniform_(layer_in.weight)\n",
        "    layer_in.bias.data.fill_(0.0)"
      ]
    },
    {
      "cell_type": "code",
      "execution_count": 23,
      "metadata": {
        "id": "NYw8I_3mmX5c"
      },
      "outputs": [
        {
          "name": "stdout",
          "output_type": "stream",
          "text": [
            "Initialized MLPBase model with 25310 parameters\n",
            "Epoch     0, train loss 1.771251, train error 64.78,  val loss 1.912040, percent error 69.80\n",
            "Epoch     1, train loss 1.159661, train error 44.30,  val loss 1.295212, percent error 51.10\n",
            "Epoch     2, train loss 0.990129, train error 38.25,  val loss 1.193194, percent error 46.40\n",
            "Epoch     3, train loss 0.918671, train error 35.57,  val loss 1.164828, percent error 45.90\n",
            "Epoch     4, train loss 0.791415, train error 29.43,  val loss 1.132662, percent error 43.40\n",
            "Epoch     5, train loss 0.725476, train error 26.60,  val loss 1.130432, percent error 42.60\n",
            "Epoch     6, train loss 0.640869, train error 24.18,  val loss 1.122956, percent error 41.30\n",
            "Epoch     7, train loss 0.726959, train error 26.80,  val loss 1.291511, percent error 43.20\n",
            "Epoch     8, train loss 0.546205, train error 20.25,  val loss 1.149455, percent error 37.70\n",
            "Epoch     9, train loss 0.535748, train error 19.62,  val loss 1.143633, percent error 37.20\n",
            "Epoch    10, train loss 0.524498, train error 20.07,  val loss 1.324853, percent error 40.50\n",
            "Epoch    11, train loss 0.462308, train error 16.78,  val loss 1.235163, percent error 37.90\n",
            "Epoch    12, train loss 0.404902, train error 15.30,  val loss 1.248106, percent error 37.10\n",
            "Epoch    13, train loss 0.386053, train error 14.18,  val loss 1.377906, percent error 37.80\n",
            "Epoch    14, train loss 0.429358, train error 16.12,  val loss 1.379912, percent error 38.80\n",
            "Epoch    15, train loss 0.470373, train error 17.28,  val loss 1.553912, percent error 42.20\n",
            "Epoch    16, train loss 0.396330, train error 14.75,  val loss 1.496687, percent error 38.50\n",
            "Epoch    17, train loss 0.307314, train error 11.12,  val loss 1.340722, percent error 35.80\n",
            "Epoch    18, train loss 0.328722, train error 12.10,  val loss 1.510592, percent error 36.80\n",
            "Epoch    19, train loss 0.263458, train error 9.18,  val loss 1.548579, percent error 36.10\n",
            "Epoch    20, train loss 0.068106, train error 1.78,  val loss 1.278047, percent error 31.70\n",
            "Epoch    21, train loss 0.031329, train error 0.22,  val loss 1.283684, percent error 31.90\n",
            "Epoch    22, train loss 0.020200, train error 0.03,  val loss 1.305421, percent error 31.00\n",
            "Epoch    23, train loss 0.014505, train error 0.00,  val loss 1.341710, percent error 30.20\n",
            "Epoch    24, train loss 0.012189, train error 0.00,  val loss 1.373940, percent error 30.20\n",
            "Epoch    25, train loss 0.010095, train error 0.00,  val loss 1.397834, percent error 30.50\n",
            "Epoch    26, train loss 0.008880, train error 0.00,  val loss 1.431565, percent error 30.80\n",
            "Epoch    27, train loss 0.007862, train error 0.00,  val loss 1.447741, percent error 30.70\n",
            "Epoch    28, train loss 0.007081, train error 0.00,  val loss 1.470519, percent error 30.60\n",
            "Epoch    29, train loss 0.006432, train error 0.00,  val loss 1.491071, percent error 30.80\n",
            "Epoch    30, train loss 0.005889, train error 0.00,  val loss 1.506293, percent error 30.70\n",
            "Epoch    31, train loss 0.005422, train error 0.00,  val loss 1.523177, percent error 30.60\n",
            "Epoch    32, train loss 0.005035, train error 0.00,  val loss 1.539157, percent error 30.80\n",
            "Epoch    33, train loss 0.004688, train error 0.00,  val loss 1.554381, percent error 30.90\n",
            "Epoch    34, train loss 0.004400, train error 0.00,  val loss 1.567548, percent error 30.90\n",
            "Epoch    35, train loss 0.004138, train error 0.00,  val loss 1.580294, percent error 30.70\n",
            "Epoch    36, train loss 0.003909, train error 0.00,  val loss 1.592726, percent error 30.90\n",
            "Epoch    37, train loss 0.003687, train error 0.00,  val loss 1.606396, percent error 30.90\n",
            "Epoch    38, train loss 0.003497, train error 0.00,  val loss 1.617007, percent error 30.80\n",
            "Epoch    39, train loss 0.003328, train error 0.00,  val loss 1.628627, percent error 30.90\n",
            "Epoch    40, train loss 0.003246, train error 0.00,  val loss 1.633323, percent error 30.90\n",
            "Epoch    41, train loss 0.003169, train error 0.00,  val loss 1.639807, percent error 31.10\n",
            "Epoch    42, train loss 0.003097, train error 0.00,  val loss 1.645015, percent error 30.90\n",
            "Epoch    43, train loss 0.003029, train error 0.00,  val loss 1.649287, percent error 31.10\n",
            "Epoch    44, train loss 0.002964, train error 0.00,  val loss 1.654695, percent error 31.20\n",
            "Epoch    45, train loss 0.002902, train error 0.00,  val loss 1.659316, percent error 31.20\n",
            "Epoch    46, train loss 0.002842, train error 0.00,  val loss 1.663192, percent error 31.00\n",
            "Epoch    47, train loss 0.002783, train error 0.00,  val loss 1.669083, percent error 31.20\n",
            "Epoch    48, train loss 0.002727, train error 0.00,  val loss 1.672408, percent error 31.20\n",
            "Epoch    49, train loss 0.002675, train error 0.00,  val loss 1.677846, percent error 31.20\n",
            "Epoch    50, train loss 0.002622, train error 0.00,  val loss 1.681733, percent error 31.10\n",
            "Epoch    51, train loss 0.002572, train error 0.00,  val loss 1.686190, percent error 31.20\n",
            "Epoch    52, train loss 0.002525, train error 0.00,  val loss 1.690342, percent error 31.20\n",
            "Epoch    53, train loss 0.002478, train error 0.00,  val loss 1.694418, percent error 31.20\n",
            "Epoch    54, train loss 0.002433, train error 0.00,  val loss 1.699111, percent error 31.20\n",
            "Epoch    55, train loss 0.002389, train error 0.00,  val loss 1.702381, percent error 31.20\n",
            "Epoch    56, train loss 0.002348, train error 0.00,  val loss 1.707252, percent error 31.30\n",
            "Epoch    57, train loss 0.002306, train error 0.00,  val loss 1.710996, percent error 31.30\n",
            "Epoch    58, train loss 0.002267, train error 0.00,  val loss 1.713733, percent error 31.20\n",
            "Epoch    59, train loss 0.002229, train error 0.00,  val loss 1.719110, percent error 31.30\n",
            "Epoch    60, train loss 0.002210, train error 0.00,  val loss 1.721050, percent error 31.20\n",
            "Epoch    61, train loss 0.002191, train error 0.00,  val loss 1.722809, percent error 31.20\n",
            "Epoch    62, train loss 0.002173, train error 0.00,  val loss 1.723934, percent error 31.20\n",
            "Epoch    63, train loss 0.002156, train error 0.00,  val loss 1.726159, percent error 31.20\n",
            "Epoch    64, train loss 0.002138, train error 0.00,  val loss 1.727751, percent error 31.20\n",
            "Epoch    65, train loss 0.002121, train error 0.00,  val loss 1.729492, percent error 31.20\n",
            "Epoch    66, train loss 0.002104, train error 0.00,  val loss 1.731174, percent error 31.20\n",
            "Epoch    67, train loss 0.002087, train error 0.00,  val loss 1.733406, percent error 31.20\n",
            "Epoch    68, train loss 0.002071, train error 0.00,  val loss 1.734843, percent error 31.20\n",
            "Epoch    69, train loss 0.002055, train error 0.00,  val loss 1.736841, percent error 31.20\n",
            "Epoch    70, train loss 0.002039, train error 0.00,  val loss 1.738047, percent error 31.20\n",
            "Epoch    71, train loss 0.002023, train error 0.00,  val loss 1.740214, percent error 31.30\n",
            "Epoch    72, train loss 0.002008, train error 0.00,  val loss 1.741763, percent error 31.30\n",
            "Epoch    73, train loss 0.001993, train error 0.00,  val loss 1.743466, percent error 31.30\n",
            "Epoch    74, train loss 0.001978, train error 0.00,  val loss 1.745048, percent error 31.30\n",
            "Epoch    75, train loss 0.001963, train error 0.00,  val loss 1.746258, percent error 31.30\n",
            "Epoch    76, train loss 0.001948, train error 0.00,  val loss 1.748151, percent error 31.30\n",
            "Epoch    77, train loss 0.001934, train error 0.00,  val loss 1.750016, percent error 31.30\n",
            "Epoch    78, train loss 0.001920, train error 0.00,  val loss 1.751496, percent error 31.30\n",
            "Epoch    79, train loss 0.001906, train error 0.00,  val loss 1.753389, percent error 31.30\n",
            "Epoch    80, train loss 0.001899, train error 0.00,  val loss 1.754090, percent error 31.30\n",
            "Epoch    81, train loss 0.001892, train error 0.00,  val loss 1.754766, percent error 31.30\n",
            "Epoch    82, train loss 0.001885, train error 0.00,  val loss 1.755878, percent error 31.30\n",
            "Epoch    83, train loss 0.001878, train error 0.00,  val loss 1.756307, percent error 31.20\n",
            "Epoch    84, train loss 0.001872, train error 0.00,  val loss 1.757265, percent error 31.30\n",
            "Epoch    85, train loss 0.001865, train error 0.00,  val loss 1.758024, percent error 31.30\n",
            "Epoch    86, train loss 0.001858, train error 0.00,  val loss 1.758764, percent error 31.30\n",
            "Epoch    87, train loss 0.001852, train error 0.00,  val loss 1.759626, percent error 31.30\n",
            "Epoch    88, train loss 0.001845, train error 0.00,  val loss 1.760439, percent error 31.30\n",
            "Epoch    89, train loss 0.001838, train error 0.00,  val loss 1.761343, percent error 31.30\n",
            "Epoch    90, train loss 0.001832, train error 0.00,  val loss 1.761837, percent error 31.30\n",
            "Epoch    91, train loss 0.001826, train error 0.00,  val loss 1.762704, percent error 31.30\n",
            "Epoch    92, train loss 0.001819, train error 0.00,  val loss 1.763502, percent error 31.20\n",
            "Epoch    93, train loss 0.001813, train error 0.00,  val loss 1.764209, percent error 31.30\n",
            "Epoch    94, train loss 0.001807, train error 0.00,  val loss 1.765214, percent error 31.30\n",
            "Epoch    95, train loss 0.001800, train error 0.00,  val loss 1.765845, percent error 31.20\n",
            "Epoch    96, train loss 0.001794, train error 0.00,  val loss 1.766404, percent error 31.30\n",
            "Epoch    97, train loss 0.001788, train error 0.00,  val loss 1.767325, percent error 31.20\n",
            "Epoch    98, train loss 0.001782, train error 0.00,  val loss 1.768047, percent error 31.20\n",
            "Epoch    99, train loss 0.001775, train error 0.00,  val loss 1.768879, percent error 31.20\n"
          ]
        }
      ],
      "source": [
        "#Define the model\n",
        "model = ResidualNetwork(40, 10)\n",
        "\n",
        "# choose cross entropy loss function (equation 5.24 in the loss notes)\n",
        "loss_function = nn.CrossEntropyLoss()\n",
        "# construct SGD optimizer and initialize learning rate and momentum\n",
        "optimizer = torch.optim.SGD(model.parameters(), lr = 0.05, momentum=0.9)\n",
        "# object that decreases learning rate by half every 20 epochs\n",
        "scheduler = StepLR(optimizer, step_size=20, gamma=0.5)\n",
        "# convert data to torch tensors\n",
        "x_train = torch.tensor(train_data_x.transpose().astype('float32'))\n",
        "y_train = torch.tensor(train_data_y.astype('long'))\n",
        "x_val= torch.tensor(val_data_x.transpose().astype('float32'))\n",
        "y_val = torch.tensor(val_data_y.astype('long'))\n",
        "\n",
        "# load the data into a class that creates the batches\n",
        "data_loader = DataLoader(TensorDataset(x_train,y_train), batch_size=100, shuffle=True, worker_init_fn=np.random.seed(1))\n",
        "\n",
        "# Initialize model weights\n",
        "model.apply(weights_init)\n",
        "\n",
        "# loop over the dataset n_epoch times\n",
        "n_epoch = 100\n",
        "# store the loss and the % correct at each epoch\n",
        "losses_train = np.zeros((n_epoch))\n",
        "errors_train = np.zeros((n_epoch))\n",
        "losses_val = np.zeros((n_epoch))\n",
        "errors_val = np.zeros((n_epoch))\n",
        "\n",
        "for epoch in range(n_epoch):\n",
        "  # loop over batches\n",
        "  for i, data in enumerate(data_loader):\n",
        "    # retrieve inputs and labels for this batch\n",
        "    x_batch, y_batch = data\n",
        "    # zero the parameter gradients\n",
        "    optimizer.zero_grad()\n",
        "    # forward pass -- calculate model output\n",
        "    pred = model(x_batch)\n",
        "    # compute the loss\n",
        "    loss = loss_function(pred, y_batch)\n",
        "    # backward pass\n",
        "    loss.backward()\n",
        "    # SGD update\n",
        "    optimizer.step()\n",
        "\n",
        "  # Run whole dataset to get statistics -- normally wouldn't do this\n",
        "  pred_train = model(x_train)\n",
        "  pred_val = model(x_val)\n",
        "  _, predicted_train_class = torch.max(pred_train.data, 1)\n",
        "  _, predicted_val_class = torch.max(pred_val.data, 1)\n",
        "  errors_train[epoch] = 100 - 100 * (predicted_train_class == y_train).float().sum() / len(y_train)\n",
        "  errors_val[epoch]= 100 - 100 * (predicted_val_class == y_val).float().sum() / len(y_val)\n",
        "  losses_train[epoch] = loss_function(pred_train, y_train).item()\n",
        "  losses_val[epoch]= loss_function(pred_val, y_val).item()\n",
        "  print(f'Epoch {epoch:5d}, train loss {losses_train[epoch]:.6f}, train error {errors_train[epoch]:3.2f},  val loss {losses_val[epoch]:.6f}, percent error {errors_val[epoch]:3.2f}')\n",
        "\n",
        "  # tell scheduler to consider updating learning rate\n",
        "  scheduler.step()"
      ]
    },
    {
      "cell_type": "code",
      "execution_count": 24,
      "metadata": {
        "id": "CcP_VyEmE2sv"
      },
      "outputs": [
        {
          "data": {
            "image/png": "[encoded data removed]",
            "text/plain": [
              "<Figure size 640x480 with 1 Axes>"
            ]
          },
          "metadata": {},
          "output_type": "display_data"
        }
      ],
      "source": [
        "# Plot the results\n",
        "fig, ax = plt.subplots()\n",
        "ax.plot(errors_train,'r-',label='train')\n",
        "ax.plot(errors_val,'b-',label='test')\n",
        "ax.set_ylim(0,100); ax.set_xlim(0,n_epoch)\n",
        "ax.set_xlabel('Epoch'); ax.set_ylabel('Error')\n",
        "ax.set_title('TrainError %3.2f, Val Error %3.2f'%(errors_train[-1],errors_val[-1]))\n",
        "ax.legend()\n",
        "plt.show()"
      ]
    },
    {
      "cell_type": "markdown",
      "metadata": {
        "id": "wMmqhmxuAx0M"
      },
      "source": [
        "The primary motivation of residual networks is to allow training of much deeper networks.   \n",
        "\n",
        "TODO: Try running this network with and without the residual connections.  Does adding the residual connections change the performance?"
      ]
    }
  ],
  "metadata": {
    "colab": {
      "authorship_tag": "ABX9TyMXS3SPB4cS/4qxix0lH/Hq",
      "include_colab_link": true,
      "provenance": []
    },
    "kernelspec": {
      "display_name": "Python 3",
      "name": "python3"
    },
    "language_info": {
      "codemirror_mode": {
        "name": "ipython",
        "version": 3
      },
      "file_extension": ".py",
      "mimetype": "text/x-python",
      "name": "python",
      "nbconvert_exporter": "python",
      "pygments_lexer": "ipython3",
      "version": "3.9.12"
    }
  },
  "nbformat": 4,
  "nbformat_minor": 0
}
