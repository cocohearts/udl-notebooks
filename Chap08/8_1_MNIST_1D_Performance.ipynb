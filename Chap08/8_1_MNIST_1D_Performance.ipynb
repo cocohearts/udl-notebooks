{
  "cells": [
    {
      "cell_type": "markdown",
      "metadata": {
        "colab_type": "text",
        "id": "view-in-github"
      },
      "source": [
        "<a href=\"https://colab.research.google.com/github/udlbook/udlbook/blob/main/Notebooks/Chap08/8_1_MNIST_1D_Performance.ipynb\" target=\"_parent\"><img src=\"https://colab.research.google.com/assets/colab-badge.svg\" alt=\"Open In Colab\"/></a>"
      ]
    },
    {
      "cell_type": "markdown",
      "metadata": {
        "id": "L6chybAVFJW2"
      },
      "source": [
        "# **Notebook 8.1: MNIST_1D_Performance**\n",
        "\n",
        "This notebook runs a simple neural network on the MNIST1D dataset as in figure 8.2a. It uses code from https://github.com/greydanus/mnist1d to generate the data.\n",
        "\n",
        "Work through the cells below, running each cell in turn. In various places you will see the words \"TO DO\". Follow the instructions at these places and make predictions about what is going to happen or write code to complete the functions.\n",
        "\n",
        "Contact me at udlbookmail@gmail.com if you find any mistakes or have any suggestions."
      ]
    },
    {
      "cell_type": "code",
      "execution_count": 11,
      "metadata": {
        "id": "ifVjS4cTOqKz"
      },
      "outputs": [],
      "source": [
        "# Run this if you're in a Colab to make a local copy of the MNIST 1D repository\n",
        "# !git clone https://github.com/greydanus/mnist1d"
      ]
    },
    {
      "cell_type": "code",
      "execution_count": 12,
      "metadata": {
        "id": "qyE7G1StPIqO"
      },
      "outputs": [],
      "source": [
        "import torch, torch.nn as nn\n",
        "from torch.utils.data import TensorDataset, DataLoader\n",
        "from torch.optim.lr_scheduler import StepLR\n",
        "import numpy as np\n",
        "import matplotlib.pyplot as plt\n",
        "import mnist1d"
      ]
    },
    {
      "cell_type": "markdown",
      "metadata": {
        "id": "F7LNq72SP6jO"
      },
      "source": [
        "Let's generate a training and test dataset using the MNIST1D code.  The dataset gets saved as a .pkl file so it doesn't have to be regenerated each time."
      ]
    },
    {
      "cell_type": "code",
      "execution_count": 13,
      "metadata": {
        "id": "YLxf7dJfPaqw"
      },
      "outputs": [
        {
          "name": "stdout",
          "output_type": "stream",
          "text": [
            "Successfully loaded data from ./mnist1d_data.pkl\n",
            "Examples in training set: 4000\n",
            "Examples in test set: 1000\n",
            "Length of each example: 40\n"
          ]
        }
      ],
      "source": [
        "args = mnist1d.data.get_dataset_args()\n",
        "data = mnist1d.data.get_dataset(args, path='./mnist1d_data.pkl', download=False, regenerate=False)\n",
        "\n",
        "# The training and test input and outputs are in\n",
        "# data['x'], data['y'], data['x_test'], and data['y_test']\n",
        "print(\"Examples in training set: {}\".format(len(data['y'])))\n",
        "print(\"Examples in test set: {}\".format(len(data['y_test'])))\n",
        "print(\"Length of each example: {}\".format(data['x'].shape[-1]))"
      ]
    },
    {
      "cell_type": "code",
      "execution_count": 14,
      "metadata": {
        "id": "FxaB5vc0uevl"
      },
      "outputs": [
        {
          "name": "stdout",
          "output_type": "stream",
          "text": [
            "Initializing layer\n",
            "Initializing layer\n"
          ]
        },
        {
          "data": {
            "text/plain": [
              "Sequential(\n",
              "  (0): Linear(in_features=40, out_features=10, bias=True)\n",
              ")"
            ]
          },
          "execution_count": 14,
          "metadata": {},
          "output_type": "execute_result"
        }
      ],
      "source": [
        "D_i = 40    # Input dimensions\n",
        "D_k = 100   # Hidden dimensions\n",
        "D_o = 10    # Output dimensions\n",
        "# TO DO:\n",
        "# Define a model with two hidden layers of size 100\n",
        "model = nn.Sequential(\n",
        "    nn.Linear(D_i, D_k),\n",
        "    nn.ReLU(),\n",
        "    nn.Linear(D_k, D_k),\n",
        "    nn.ReLU(),\n",
        "    nn.Linear(D_k, D_o)\n",
        ")\n",
        "# And ReLU activations between them\n",
        "# Replace this line (see Figure 7.8 of book for help):\n",
        "model = torch.nn.Sequential(torch.nn.Linear(D_i, D_o));\n",
        "\n",
        "\n",
        "def weights_init(layer_in):\n",
        "    if isinstance(layer_in, nn.Linear):\n",
        "        nn.init.kaiming_normal_(layer_in.weight)\n",
        "        layer_in.bias.data.fill_(0.0)\n",
        "    # TO DO:\n",
        "    # Initialize the parameters with He initialization\n",
        "    # Replace this line (see figure 7.8 of book for help)\n",
        "    print(\"Initializing layer\")\n",
        "\n",
        "\n",
        "# Call the function you just defined\n",
        "model.apply(weights_init)\n"
      ]
    },
    {
      "cell_type": "code",
      "execution_count": 15,
      "metadata": {
        "id": "_rX6N3VyyQTY"
      },
      "outputs": [
        {
          "name": "stdout",
          "output_type": "stream",
          "text": [
            "Initializing layer\n",
            "Initializing layer\n",
            "Epoch     0, train loss 1.787629, train error 71.65,  test loss 1.809508, test error 72.90\n",
            "Epoch     1, train loss 1.703341, train error 67.97,  test loss 1.726012, test error 70.70\n",
            "Epoch     2, train loss 1.675329, train error 67.72,  test loss 1.704593, test error 69.10\n",
            "Epoch     3, train loss 1.649846, train error 65.70,  test loss 1.690114, test error 70.20\n",
            "Epoch     4, train loss 1.651617, train error 65.70,  test loss 1.695206, test error 70.50\n",
            "Epoch     5, train loss 1.633131, train error 65.43,  test loss 1.673805, test error 68.00\n",
            "Epoch     6, train loss 1.627152, train error 64.68,  test loss 1.673824, test error 67.70\n",
            "Epoch     7, train loss 1.620563, train error 64.75,  test loss 1.660253, test error 68.30\n",
            "Epoch     8, train loss 1.613058, train error 63.90,  test loss 1.669311, test error 68.80\n",
            "Epoch     9, train loss 1.621298, train error 64.55,  test loss 1.681868, test error 69.00\n",
            "Epoch    10, train loss 1.602731, train error 63.72,  test loss 1.660251, test error 67.90\n",
            "Epoch    11, train loss 1.602854, train error 62.67,  test loss 1.653325, test error 66.40\n",
            "Epoch    12, train loss 1.599747, train error 63.15,  test loss 1.652707, test error 67.00\n",
            "Epoch    13, train loss 1.599883, train error 63.60,  test loss 1.654663, test error 67.80\n",
            "Epoch    14, train loss 1.598849, train error 63.00,  test loss 1.657054, test error 68.00\n",
            "Epoch    15, train loss 1.600943, train error 63.08,  test loss 1.667521, test error 68.10\n",
            "Epoch    16, train loss 1.600229, train error 63.40,  test loss 1.654803, test error 68.10\n",
            "Epoch    17, train loss 1.601297, train error 63.62,  test loss 1.664186, test error 68.20\n",
            "Epoch    18, train loss 1.599888, train error 63.17,  test loss 1.655415, test error 66.40\n",
            "Epoch    19, train loss 1.598657, train error 62.75,  test loss 1.661768, test error 68.50\n",
            "Epoch    20, train loss 1.593070, train error 63.10,  test loss 1.654827, test error 67.50\n",
            "Epoch    21, train loss 1.592109, train error 62.95,  test loss 1.654554, test error 67.20\n",
            "Epoch    22, train loss 1.592340, train error 62.55,  test loss 1.652643, test error 67.50\n",
            "Epoch    23, train loss 1.591931, train error 62.62,  test loss 1.652345, test error 67.80\n",
            "Epoch    24, train loss 1.592005, train error 62.90,  test loss 1.656875, test error 67.60\n",
            "Epoch    25, train loss 1.591431, train error 62.62,  test loss 1.652599, test error 66.80\n",
            "Epoch    26, train loss 1.591602, train error 62.65,  test loss 1.655552, test error 67.20\n",
            "Epoch    27, train loss 1.591332, train error 62.40,  test loss 1.652018, test error 67.20\n",
            "Epoch    28, train loss 1.591562, train error 62.92,  test loss 1.655554, test error 67.60\n",
            "Epoch    29, train loss 1.591669, train error 62.22,  test loss 1.651686, test error 66.60\n",
            "Epoch    30, train loss 1.590228, train error 62.35,  test loss 1.652260, test error 67.30\n",
            "Epoch    31, train loss 1.590204, train error 62.83,  test loss 1.653438, test error 66.90\n",
            "Epoch    32, train loss 1.589924, train error 62.28,  test loss 1.651181, test error 67.20\n",
            "Epoch    33, train loss 1.589820, train error 62.38,  test loss 1.652250, test error 67.60\n",
            "Epoch    34, train loss 1.589898, train error 62.50,  test loss 1.654434, test error 66.80\n",
            "Epoch    35, train loss 1.589822, train error 62.58,  test loss 1.653258, test error 67.30\n",
            "Epoch    36, train loss 1.589667, train error 62.40,  test loss 1.653745, test error 67.90\n",
            "Epoch    37, train loss 1.589679, train error 62.75,  test loss 1.653068, test error 67.20\n",
            "Epoch    38, train loss 1.589711, train error 62.47,  test loss 1.654432, test error 67.60\n",
            "Epoch    39, train loss 1.589532, train error 62.60,  test loss 1.653469, test error 67.20\n",
            "Epoch    40, train loss 1.589379, train error 62.35,  test loss 1.653379, test error 67.10\n",
            "Epoch    41, train loss 1.589249, train error 62.47,  test loss 1.652992, test error 67.50\n",
            "Epoch    42, train loss 1.589236, train error 62.45,  test loss 1.654316, test error 67.10\n",
            "Epoch    43, train loss 1.589161, train error 62.35,  test loss 1.652917, test error 67.00\n",
            "Epoch    44, train loss 1.589128, train error 62.40,  test loss 1.653042, test error 67.20\n",
            "Epoch    45, train loss 1.589153, train error 62.55,  test loss 1.653763, test error 67.40\n",
            "Epoch    46, train loss 1.589066, train error 62.40,  test loss 1.652993, test error 67.50\n",
            "Epoch    47, train loss 1.589062, train error 62.42,  test loss 1.654410, test error 67.50\n",
            "Epoch    48, train loss 1.589024, train error 62.45,  test loss 1.653691, test error 67.00\n",
            "Epoch    49, train loss 1.589034, train error 62.45,  test loss 1.653450, test error 67.20\n"
          ]
        }
      ],
      "source": [
        "# choose cross entropy loss function (equation 5.24)\n",
        "loss_function = torch.nn.CrossEntropyLoss()\n",
        "# construct SGD optimizer and initialize learning rate and momentum\n",
        "optimizer = torch.optim.SGD(model.parameters(), lr = 0.05, momentum=0.9)\n",
        "# object that decreases learning rate by half every 10 epochs\n",
        "scheduler = StepLR(optimizer, step_size=10, gamma=0.5)\n",
        "# create 100 dummy data points and store in data loader class\n",
        "x_train = torch.tensor(data['x'].astype('float32'))\n",
        "y_train = torch.tensor(data['y'].transpose().astype('long'))\n",
        "x_test= torch.tensor(data['x_test'].astype('float32'))\n",
        "y_test = torch.tensor(data['y_test'].astype('long'))\n",
        "\n",
        "# load the data into a class that creates the batches\n",
        "data_loader = DataLoader(TensorDataset(x_train,y_train), batch_size=100, shuffle=True, worker_init_fn=np.random.seed(1))\n",
        "\n",
        "# Initialize model weights\n",
        "model.apply(weights_init)\n",
        "\n",
        "# loop over the dataset n_epoch times\n",
        "n_epoch = 50\n",
        "# store the loss and the % correct at each epoch\n",
        "losses_train = np.zeros((n_epoch))\n",
        "errors_train = np.zeros((n_epoch))\n",
        "losses_test = np.zeros((n_epoch))\n",
        "errors_test = np.zeros((n_epoch))\n",
        "\n",
        "for epoch in range(n_epoch):\n",
        "  # loop over batches\n",
        "  for i, batch in enumerate(data_loader):\n",
        "    # retrieve inputs and labels for this batch\n",
        "    x_batch, y_batch = batch\n",
        "    # zero the parameter gradients\n",
        "    optimizer.zero_grad()\n",
        "    # forward pass -- calculate model output\n",
        "    pred = model(x_batch)\n",
        "    # compute the loss\n",
        "    loss = loss_function(pred, y_batch)\n",
        "    # backward pass\n",
        "    loss.backward()\n",
        "    # SGD update\n",
        "    optimizer.step()\n",
        "\n",
        "  # Run whole dataset to get statistics -- normally wouldn't do this\n",
        "  pred_train = model(x_train)\n",
        "  pred_test = model(x_test)\n",
        "  _, predicted_train_class = torch.max(pred_train.data, 1)\n",
        "  _, predicted_test_class = torch.max(pred_test.data, 1)\n",
        "  errors_train[epoch] = 100 - 100 * (predicted_train_class == y_train).float().sum() / len(y_train)\n",
        "  errors_test[epoch]= 100 - 100 * (predicted_test_class == y_test).float().sum() / len(y_test)\n",
        "  losses_train[epoch] = loss_function(pred_train, y_train).item()\n",
        "  losses_test[epoch]= loss_function(pred_test, y_test).item()\n",
        "  print(f'Epoch {epoch:5d}, train loss {losses_train[epoch]:.6f}, train error {errors_train[epoch]:3.2f},  test loss {losses_test[epoch]:.6f}, test error {errors_test[epoch]:3.2f}')\n",
        "\n",
        "  # tell scheduler to consider updating learning rate\n",
        "  scheduler.step()"
      ]
    },
    {
      "cell_type": "code",
      "execution_count": 16,
      "metadata": {
        "id": "yI-l6kA_EH9G"
      },
      "outputs": [
        {
          "data": {
            "image/png": "[encoded data removed]",
            "text/plain": [
              "<Figure size 432x288 with 1 Axes>"
            ]
          },
          "metadata": {
            "needs_background": "light"
          },
          "output_type": "display_data"
        },
        {
          "data": {
            "image/png": "[encoded data removed]",
            "text/plain": [
              "<Figure size 432x288 with 1 Axes>"
            ]
          },
          "metadata": {
            "needs_background": "light"
          },
          "output_type": "display_data"
        }
      ],
      "source": [
        "# Plot the results\n",
        "fig, ax = plt.subplots()\n",
        "ax.plot(errors_train,'r-',label='train')\n",
        "ax.plot(errors_test,'b-',label='test')\n",
        "ax.set_ylim(0,100); ax.set_xlim(0,n_epoch)\n",
        "ax.set_xlabel('Epoch'); ax.set_ylabel('Error')\n",
        "ax.set_title('TrainError %3.2f, Test Error %3.2f'%(errors_train[-1],errors_test[-1]))\n",
        "ax.legend()\n",
        "plt.show()\n",
        "\n",
        "# Plot the results\n",
        "fig, ax = plt.subplots()\n",
        "ax.plot(losses_train,'r-',label='train')\n",
        "ax.plot(losses_test,'b-',label='test')\n",
        "ax.set_xlim(0,n_epoch)\n",
        "ax.set_xlabel('Epoch'); ax.set_ylabel('Loss')\n",
        "ax.set_title('Train loss %3.2f, Test loss %3.2f'%(losses_train[-1],losses_test[-1]))\n",
        "ax.legend()\n",
        "plt.show()"
      ]
    },
    {
      "cell_type": "markdown",
      "metadata": {
        "id": "q-yT6re6GZS4"
      },
      "source": [
        "**TO DO**\n",
        "\n",
        "Play with the model -- try changing the number of layers, hidden units, learning rate, batch size, momentum or anything else you like.  See if you can improve the test results.\n",
        "\n",
        "Is it a good idea to optimize the hyperparameters in this way?  Will the final result be a good estimate of the true test performance?"
      ]
    }
  ],
  "metadata": {
    "accelerator": "GPU",
    "colab": {
      "authorship_tag": "ABX9TyOuKMUcKfOIhIL2qTX9jJCy",
      "gpuType": "T4",
      "include_colab_link": true,
      "provenance": []
    },
    "kernelspec": {
      "display_name": "Python 3",
      "name": "python3"
    },
    "language_info": {
      "codemirror_mode": {
        "name": "ipython",
        "version": 3
      },
      "file_extension": ".py",
      "mimetype": "text/x-python",
      "name": "python",
      "nbconvert_exporter": "python",
      "pygments_lexer": "ipython3",
      "version": "3.9.12"
    }
  },
  "nbformat": 4,
  "nbformat_minor": 0
}
